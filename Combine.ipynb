{
 "cells": [
  {
   "cell_type": "code",
   "execution_count": 3,
   "metadata": {},
   "outputs": [
    {
     "name": "stderr",
     "output_type": "stream",
     "text": [
      "100%|██████████| 442/442 [00:00<00:00, 744531.07it/s]\n",
      "100%|██████████| 5763/5763 [00:00<00:00, 1163334.97it/s]\n"
     ]
    }
   ],
   "source": [
    "#train-v1.1.json + squad_v1.7.json(有與qa model比對)+eval_beam_size_1.json\n",
    "import json\n",
    "from tqdm import tqdm\n",
    "from transformers import pipeline\n",
    "result = {}\n",
    "result['version'] = \"v1.1\"\n",
    "result['data'] = []\n",
    "i = 0\n",
    "with open('train-v1.1.json','r') as file:\n",
    "    squad = json.load(file)\n",
    "data_array = squad['data']\n",
    "for d in tqdm(data_array):\n",
    "    result['data'].append(d)\n",
    "'''with open('train-v3.0.json','r') as file1:\n",
    "    squad1 = json.load(file1)\n",
    "data_array1 = squad1['data']\n",
    "for d in tqdm(data_array1):\n",
    "    result['data'].append(d)'''\n",
    "with open('dev-v3.1.json','r') as file2:\n",
    "    squad2 = json.load(file2)\n",
    "data_array2 = squad2['data']\n",
    "for d in tqdm(data_array2):\n",
    "    result['data'].append(d)\n",
    "'''with open('train-v2.0.json','r') as file:\n",
    "    squad = json.load(file)\n",
    "data_array = squad['data']\n",
    "for d in tqdm(data_array):\n",
    "    result['data'].append(d)'''\n",
    "with open('squad_v3.1.json','w') as write_file:\n",
    "    json.dump(result,write_file)\n",
    "        "
   ]
  }
 ],
 "metadata": {
  "kernelspec": {
   "display_name": "Python 3",
   "language": "python",
   "name": "python3"
  },
  "language_info": {
   "codemirror_mode": {
    "name": "ipython",
    "version": 3
   },
   "file_extension": ".py",
   "mimetype": "text/x-python",
   "name": "python",
   "nbconvert_exporter": "python",
   "pygments_lexer": "ipython3",
   "version": "3.6.9"
  }
 },
 "nbformat": 4,
 "nbformat_minor": 2
}
